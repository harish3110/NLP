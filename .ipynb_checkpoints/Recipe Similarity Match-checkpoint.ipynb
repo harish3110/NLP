{
 "cells": [
  {
   "cell_type": "markdown",
   "metadata": {},
   "source": [
    "---\n",
    "### Recipe Similarity Match\n",
    "Reference: https://markhneedham.com/blog/2016/07/27/scitkit-learn-tfidf-and-cosine-similarity-for-computer-science-papers/\n",
    "\n",
    "---"
   ]
  },
  {
   "cell_type": "code",
   "execution_count": 36,
   "metadata": {},
   "outputs": [],
   "source": [
    "#import dependencies\n",
    "import numpy as np\n",
    "import pandas as pd\n",
    "import nltk\n",
    "from wordcloud import WordCloud\n",
    "import matplotlib.pyplot as plt\n",
    "import sklearn\n",
    "%matplotlib inline\n",
    "\n",
    "import warnings\n",
    "warnings.filterwarnings(\"ignore\")"
   ]
  },
  {
   "cell_type": "code",
   "execution_count": 37,
   "metadata": {},
   "outputs": [
    {
     "name": "stdout",
     "output_type": "stream",
     "text": [
      "\u001b[34mNLP Basics\u001b[m\u001b[m                    \u001b[34mdata\u001b[m\u001b[m\n",
      "Recipe Similarity Match.ipynb fuzzy_string_matching.ipynb\n"
     ]
    }
   ],
   "source": [
    "!ls"
   ]
  },
  {
   "cell_type": "code",
   "execution_count": 38,
   "metadata": {},
   "outputs": [
    {
     "data": {
      "text/html": [
       "<div>\n",
       "<style scoped>\n",
       "    .dataframe tbody tr th:only-of-type {\n",
       "        vertical-align: middle;\n",
       "    }\n",
       "\n",
       "    .dataframe tbody tr th {\n",
       "        vertical-align: top;\n",
       "    }\n",
       "\n",
       "    .dataframe thead th {\n",
       "        text-align: right;\n",
       "    }\n",
       "</style>\n",
       "<table border=\"1\" class=\"dataframe\">\n",
       "  <thead>\n",
       "    <tr style=\"text-align: right;\">\n",
       "      <th></th>\n",
       "      <th>directions</th>\n",
       "      <th>id</th>\n",
       "      <th>ingredients</th>\n",
       "      <th>recipe_name</th>\n",
       "      <th>scraped_tags</th>\n",
       "      <th>text_combination</th>\n",
       "    </tr>\n",
       "  </thead>\n",
       "  <tbody>\n",
       "    <tr>\n",
       "      <th>0</th>\n",
       "      <td>Preheat oven to 350 degrees (175 degrees C). L...</td>\n",
       "      <td>5c5177b4b0d73530ac82d6c8</td>\n",
       "      <td>all-purpose flour 1/2 teaspoons baking soda 1/...</td>\n",
       "      <td>Chocolate Mayo Cake</td>\n",
       "      <td>chocolate-cake desserts cakes</td>\n",
       "      <td>Preheat oven to 350 degrees (175 degrees C). L...</td>\n",
       "    </tr>\n",
       "    <tr>\n",
       "      <th>1</th>\n",
       "      <td>Preheat oven to 350 degrees F (175 degrees C)....</td>\n",
       "      <td>5c5177b4b0d73530ac82d6c9</td>\n",
       "      <td>raisins water eggs liquid sweetener vegetable ...</td>\n",
       "      <td>Sugar Free Cake</td>\n",
       "      <td>spice-cake desserts cakes</td>\n",
       "      <td>Preheat oven to 350 degrees F (175 degrees C)....</td>\n",
       "    </tr>\n",
       "    <tr>\n",
       "      <th>2</th>\n",
       "      <td>Preheat oven to 350 degrees F (175 degrees C)....</td>\n",
       "      <td>5c5177b4b0d73530ac82d6ca</td>\n",
       "      <td>mayonnaise white sugar water all-purpose flour...</td>\n",
       "      <td>Mayonnaise Cake</td>\n",
       "      <td>chocolate-cake desserts cakes</td>\n",
       "      <td>Preheat oven to 350 degrees F (175 degrees C)....</td>\n",
       "    </tr>\n",
       "    <tr>\n",
       "      <th>3</th>\n",
       "      <td>Remove skin and bones from fish. In a medium b...</td>\n",
       "      <td>5c5177b4b0d73530ac82d6cb</td>\n",
       "      <td>(15 ounce) can mackerel, drained and rinsed sm...</td>\n",
       "      <td>Mackerel Dip</td>\n",
       "      <td>appetizers-and-snacks seafood</td>\n",
       "      <td>Remove skin and bones from fish. In a medium b...</td>\n",
       "    </tr>\n",
       "    <tr>\n",
       "      <th>4</th>\n",
       "      <td>Preheat oven to 350 degrees F (175 degrees C)....</td>\n",
       "      <td>5c5177b4b0d73530ac82d6cc</td>\n",
       "      <td>white sugar shortening ground cinnamon ground ...</td>\n",
       "      <td>Eggless Milkless Butterless Cake</td>\n",
       "      <td>spice-cake desserts cakes</td>\n",
       "      <td>Preheat oven to 350 degrees F (175 degrees C)....</td>\n",
       "    </tr>\n",
       "  </tbody>\n",
       "</table>\n",
       "</div>"
      ],
      "text/plain": [
       "                                          directions  \\\n",
       "0  Preheat oven to 350 degrees (175 degrees C). L...   \n",
       "1  Preheat oven to 350 degrees F (175 degrees C)....   \n",
       "2  Preheat oven to 350 degrees F (175 degrees C)....   \n",
       "3  Remove skin and bones from fish. In a medium b...   \n",
       "4  Preheat oven to 350 degrees F (175 degrees C)....   \n",
       "\n",
       "                         id  \\\n",
       "0  5c5177b4b0d73530ac82d6c8   \n",
       "1  5c5177b4b0d73530ac82d6c9   \n",
       "2  5c5177b4b0d73530ac82d6ca   \n",
       "3  5c5177b4b0d73530ac82d6cb   \n",
       "4  5c5177b4b0d73530ac82d6cc   \n",
       "\n",
       "                                         ingredients  \\\n",
       "0  all-purpose flour 1/2 teaspoons baking soda 1/...   \n",
       "1  raisins water eggs liquid sweetener vegetable ...   \n",
       "2  mayonnaise white sugar water all-purpose flour...   \n",
       "3  (15 ounce) can mackerel, drained and rinsed sm...   \n",
       "4  white sugar shortening ground cinnamon ground ...   \n",
       "\n",
       "                        recipe_name                   scraped_tags  \\\n",
       "0               Chocolate Mayo Cake  chocolate-cake desserts cakes   \n",
       "1                   Sugar Free Cake      spice-cake desserts cakes   \n",
       "2                  Mayonnaise Cake   chocolate-cake desserts cakes   \n",
       "3                      Mackerel Dip  appetizers-and-snacks seafood   \n",
       "4  Eggless Milkless Butterless Cake      spice-cake desserts cakes   \n",
       "\n",
       "                                    text_combination  \n",
       "0  Preheat oven to 350 degrees (175 degrees C). L...  \n",
       "1  Preheat oven to 350 degrees F (175 degrees C)....  \n",
       "2  Preheat oven to 350 degrees F (175 degrees C)....  \n",
       "3  Remove skin and bones from fish. In a medium b...  \n",
       "4  Preheat oven to 350 degrees F (175 degrees C)....  "
      ]
     },
     "execution_count": 38,
     "metadata": {},
     "output_type": "execute_result"
    }
   ],
   "source": [
    "df = pd.read_csv('data/recipe_list.csv')\n",
    "df.head()"
   ]
  },
  {
   "cell_type": "markdown",
   "metadata": {},
   "source": [
    "---\n",
    "### Data Cleaning:\n",
    "\n",
    "---\n",
    "#### Removing Unnecessary Characters:"
   ]
  },
  {
   "cell_type": "code",
   "execution_count": 39,
   "metadata": {},
   "outputs": [
    {
     "data": {
      "text/plain": [
       "0    preheat oven to  degrees  degrees c lightly gr...\n",
       "1    preheat oven to  degrees f  degrees c grease a...\n",
       "2    preheat oven to  degrees f  degrees c grease a...\n",
       "3    remove skin and bones from fish in a medium bo...\n",
       "4    preheat oven to  degrees f  degrees c lightly ...\n",
       "Name: text_combination, dtype: object"
      ]
     },
     "execution_count": 39,
     "metadata": {},
     "output_type": "execute_result"
    }
   ],
   "source": [
    "docs = df['text_combination'].dropna().str.replace('-' , '').str.lower().str.replace('[^a-zA-Z ]' , '')\n",
    "docs.head()"
   ]
  },
  {
   "cell_type": "markdown",
   "metadata": {},
   "source": [
    "#### Data Analysis using Wordcloud:"
   ]
  },
  {
   "cell_type": "code",
   "execution_count": 40,
   "metadata": {},
   "outputs": [],
   "source": [
    "stopwords = nltk.corpus.stopwords.words('english')"
   ]
  },
  {
   "cell_type": "code",
   "execution_count": 41,
   "metadata": {},
   "outputs": [
    {
     "data": {
      "text/plain": [
       "<matplotlib.image.AxesImage at 0x1a599a8ef0>"
      ]
     },
     "execution_count": 41,
     "metadata": {},
     "output_type": "execute_result"
    },
    {
     "data": {
      "image/png": "[encoded data removed]",
      "text/plain": [
       "<Figure size 432x288 with 1 Axes>"
      ]
     },
     "metadata": {
      "needs_background": "light"
     },
     "output_type": "display_data"
    }
   ],
   "source": [
    "WC_Neutral = WordCloud(background_color = 'white' , stopwords = stopwords).generate('' .join(docs))\n",
    "plt.imshow(WC_Neutral)"
   ]
  },
  {
   "cell_type": "markdown",
   "metadata": {},
   "source": [
    "#### Updating Stopwords from WordCloud:"
   ]
  },
  {
   "cell_type": "code",
   "execution_count": 42,
   "metadata": {},
   "outputs": [],
   "source": [
    "# Adding more words to stopwwords based on wordcloud\n",
    "extra_stopwords = ['medium', 'heat', 'degree', 'degrees', 'reduce', 'heat', 'preheated', 'cook', 'minute']"
   ]
  },
  {
   "cell_type": "code",
   "execution_count": 43,
   "metadata": {},
   "outputs": [],
   "source": [
    "stopwords.extend(extra_stopwords)"
   ]
  },
  {
   "cell_type": "markdown",
   "metadata": {},
   "source": [
    "#### Stemming and Stopwords Removal:"
   ]
  },
  {
   "cell_type": "code",
   "execution_count": 44,
   "metadata": {},
   "outputs": [
    {
     "data": {
      "text/plain": [
       "0    preheat oven to  degrees  degrees c lightly gr...\n",
       "1    preheat oven to  degrees f  degrees c grease a...\n",
       "2    preheat oven to  degrees f  degrees c grease a...\n",
       "3    remove skin and bones from fish in a medium bo...\n",
       "4    preheat oven to  degrees f  degrees c lightly ...\n",
       "Name: text_combination, dtype: object"
      ]
     },
     "execution_count": 44,
     "metadata": {},
     "output_type": "execute_result"
    }
   ],
   "source": [
    "docs.head()"
   ]
  },
  {
   "cell_type": "code",
   "execution_count": 45,
   "metadata": {},
   "outputs": [
    {
     "name": "stdout",
     "output_type": "stream",
     "text": [
      "Total number of recipes in dataset: 19774\n"
     ]
    }
   ],
   "source": [
    "print(f'Total number of recipes in dataset: {len(docs)}')"
   ]
  },
  {
   "cell_type": "code",
   "execution_count": 46,
   "metadata": {},
   "outputs": [],
   "source": [
    "# Choosing porter stemmer\n",
    "stemmer = nltk.stem.PorterStemmer()"
   ]
  },
  {
   "cell_type": "code",
   "execution_count": 47,
   "metadata": {},
   "outputs": [],
   "source": [
    "def clean_sentence(doc):\n",
    "    words = doc.split(' ')\n",
    "    words_clean = [stemmer.stem(word) for word in words if word not in stopwords]\n",
    "    doc_clean = ' '.join(words_clean)\n",
    "    return doc_clean"
   ]
  },
  {
   "cell_type": "code",
   "execution_count": 48,
   "metadata": {},
   "outputs": [
    {
     "data": {
      "text/plain": [
       "0        preheat oven   c lightli greas two  inch layer...\n",
       "1        preheat oven  f  c greas flour one  inch bundt...\n",
       "2        preheat oven  f  c greas flour two   inch roun...\n",
       "3        remov skin bone fish bowl mix fish onion hot p...\n",
       "4        preheat oven  f  c lightli greas one   inch sq...\n",
       "5        place pop popcorn two shallow greas bake pan m...\n",
       "6        larg nonstick skillet drizzl fillet oliv oil s...\n",
       "7        preheat oven  f  c place blueberri  inch squar...\n",
       "8        larg glass bowl mix togeth vital wheat gluten ...\n",
       "9        bowl stir togeth oliv oil wasabi powder sesam ...\n",
       "10       saucepan bring water sugar simmer high sugar d...\n",
       "11       bowl mix togeth salmon egg celeri green onion ...\n",
       "12       preheat oven  f  c greas flour  inch bundt tub...\n",
       "13       place shrimp bowl may either coars chop shrimp...\n",
       "14       place pinto bean slow cooker complet cover wat...\n",
       "15       preheat oven  f  c greas line parchment paper ...\n",
       "16        tablespoon oil low inch nonstick skillet pota...\n",
       "17       spread bread cube singl layer two larg sheet p...\n",
       "18       oil garlic larg saucepan dutch oven garlic sta...\n",
       "19       microwav broth high quart glass measur cup pip...\n",
       "20       combin sugar water shorten raisin spice salt s...\n",
       "21       combin first six ingredi stir well oil larg sk...\n",
       "22       preheat oven  f  c greas flour one  inch  tube...\n",
       "23       oil wok place chicken wok juic run clear mix r...\n",
       "24       canola oil larg saucepan high carrot onion sti...\n",
       "25        cup oliv oil larg skillet add garlic saut min...\n",
       "26       preheat oven  f  c beat cold water egg yolk to...\n",
       "27       oil skillet mix garlic stir golden remov allow...\n",
       "28       preheat oven  f  c combin flour sugar bake pow...\n",
       "29       preheat oven  f  c saucepan combin water white...\n",
       "                               ...                        \n",
       "19756    direct unrol crescent roll dough one long rect...\n",
       "19757    direct combin rustic herb season water oil mic...\n",
       "19758     put enough water would cover tomato cook pot ...\n",
       "19759    prepar base pizza roll dough bake pan sprinkl ...\n",
       "19760    combin garlic butter oil microwav safe dish sm...\n",
       "19761    prepar  boil green pea water till soft drain m...\n",
       "19762    ajwain seed black oliv black pepper capsicum c...\n",
       "19763    oil pan fri cumin seed chop onion capsicum  mi...\n",
       "19764    sizzler plate place grate dark chocol microwav...\n",
       "19765    combin tomato garlic clove basil leav blend mi...\n",
       "19766    babi corn black pepper butter button mushroom ...\n",
       "19767    black pepper butter chees chickenbreast garlic...\n",
       "19768    boil potato peel skin mash add grate chees pep...\n",
       "19769    prepar  combin first  ingredi shallow dish sti...\n",
       "19770    preheat oven  c grill mode line bake tray foil...\n",
       "19771    black pepper cook oil garlic dri hakka noodl m...\n",
       "19772    method place prawn water chestnut onion ginger...\n",
       "19773    method cut potato long  like way french fri cu...\n",
       "19774    preheat oven grill  f oliv oil small pan brown...\n",
       "19775     take chicken bowl add soy sauc mix add chilli...\n",
       "19776    cashewnut cook oil corn flour dark soy sauc ga...\n",
       "19777    microwav cabbag leav  chop small piec minc gre...\n",
       "19778    capsicum carrot chilli dri garlic fresh noodl ...\n",
       "19779    pan stir fri ginger garlic coriand leav green ...\n",
       "19780    chicken drum stick cook oil coriand leav corn ...\n",
       "19781    direct  bowl combin veget oil season set asid ...\n",
       "19782                                                pepsi\n",
       "19783                                                pepsi\n",
       "19784                                                 soda\n",
       "19785    take bowl add chicken turmer ginger garlic pas...\n",
       "Name: text_combination, Length: 19774, dtype: object"
      ]
     },
     "execution_count": 48,
     "metadata": {},
     "output_type": "execute_result"
    }
   ],
   "source": [
    "docs.apply(clean_sentence)"
   ]
  },
  {
   "cell_type": "markdown",
   "metadata": {},
   "source": [
    "---\n",
    "#### Spacy Document Similarity without feature extraction:\n",
    "\n",
    "***Direct similarity doesn't work as for recipes as many terms repeat and thus many recipes which aren't exact match incorrectly.***"
   ]
  },
  {
   "cell_type": "code",
   "execution_count": 49,
   "metadata": {},
   "outputs": [],
   "source": [
    "import spacy"
   ]
  },
  {
   "cell_type": "code",
   "execution_count": 50,
   "metadata": {},
   "outputs": [
    {
     "data": {
      "text/html": [
       "<div>\n",
       "<style scoped>\n",
       "    .dataframe tbody tr th:only-of-type {\n",
       "        vertical-align: middle;\n",
       "    }\n",
       "\n",
       "    .dataframe tbody tr th {\n",
       "        vertical-align: top;\n",
       "    }\n",
       "\n",
       "    .dataframe thead th {\n",
       "        text-align: right;\n",
       "    }\n",
       "</style>\n",
       "<table border=\"1\" class=\"dataframe\">\n",
       "  <thead>\n",
       "    <tr style=\"text-align: right;\">\n",
       "      <th></th>\n",
       "      <th>directions</th>\n",
       "      <th>id</th>\n",
       "      <th>ingredients</th>\n",
       "      <th>recipe_name</th>\n",
       "      <th>scraped_tags</th>\n",
       "      <th>text_combination</th>\n",
       "    </tr>\n",
       "  </thead>\n",
       "  <tbody>\n",
       "    <tr>\n",
       "      <th>11101</th>\n",
       "      <td>Heat oil in a large skillet over medium heat; ...</td>\n",
       "      <td>5c540893c8a4282a444a98c8</td>\n",
       "      <td>vegetable oil pound paneer, cut into 1/2-inch ...</td>\n",
       "      <td>Paneer Butter Masala</td>\n",
       "      <td>trusted-brands-recipes-and-tips</td>\n",
       "      <td>Heat oil in a large skillet over medium heat; ...</td>\n",
       "    </tr>\n",
       "    <tr>\n",
       "      <th>17300</th>\n",
       "      <td>NaN</td>\n",
       "      <td>5c753e24395d0f3694131c22</td>\n",
       "      <td>7Up Bay Leaves Butter Cashewnut Chillies Green...</td>\n",
       "      <td>Paneer Butter Masala</td>\n",
       "      <td>NaN</td>\n",
       "      <td>7Up Bay Leaves Butter Cashewnut Chillies Green...</td>\n",
       "    </tr>\n",
       "  </tbody>\n",
       "</table>\n",
       "</div>"
      ],
      "text/plain": [
       "                                              directions  \\\n",
       "11101  Heat oil in a large skillet over medium heat; ...   \n",
       "17300                                                NaN   \n",
       "\n",
       "                             id  \\\n",
       "11101  5c540893c8a4282a444a98c8   \n",
       "17300  5c753e24395d0f3694131c22   \n",
       "\n",
       "                                             ingredients  \\\n",
       "11101  vegetable oil pound paneer, cut into 1/2-inch ...   \n",
       "17300  7Up Bay Leaves Butter Cashewnut Chillies Green...   \n",
       "\n",
       "                recipe_name                     scraped_tags  \\\n",
       "11101  Paneer Butter Masala  trusted-brands-recipes-and-tips   \n",
       "17300  Paneer Butter Masala                              NaN   \n",
       "\n",
       "                                        text_combination  \n",
       "11101  Heat oil in a large skillet over medium heat; ...  \n",
       "17300  7Up Bay Leaves Butter Cashewnut Chillies Green...  "
      ]
     },
     "execution_count": 50,
     "metadata": {},
     "output_type": "execute_result"
    }
   ],
   "source": [
    "df[df['recipe_name'].str.lower() == 'paneer butter masala']"
   ]
  },
  {
   "cell_type": "code",
   "execution_count": 51,
   "metadata": {},
   "outputs": [
    {
     "data": {
      "text/html": [
       "<div>\n",
       "<style scoped>\n",
       "    .dataframe tbody tr th:only-of-type {\n",
       "        vertical-align: middle;\n",
       "    }\n",
       "\n",
       "    .dataframe tbody tr th {\n",
       "        vertical-align: top;\n",
       "    }\n",
       "\n",
       "    .dataframe thead th {\n",
       "        text-align: right;\n",
       "    }\n",
       "</style>\n",
       "<table border=\"1\" class=\"dataframe\">\n",
       "  <thead>\n",
       "    <tr style=\"text-align: right;\">\n",
       "      <th></th>\n",
       "      <th>directions</th>\n",
       "      <th>id</th>\n",
       "      <th>ingredients</th>\n",
       "      <th>recipe_name</th>\n",
       "      <th>scraped_tags</th>\n",
       "      <th>text_combination</th>\n",
       "    </tr>\n",
       "  </thead>\n",
       "  <tbody>\n",
       "    <tr>\n",
       "      <th>15766</th>\n",
       "      <td>in a kadai heat 2 tbsp oil. add the crushed gi...</td>\n",
       "      <td>5c753e1e395d0f369413115c</td>\n",
       "      <td>Black Pepper Capsicum Chilli Dry Chillies Gree...</td>\n",
       "      <td>Kadai Paneer</td>\n",
       "      <td>NaN</td>\n",
       "      <td>in a kadai heat 2 tbsp oil. add the crushed gi...</td>\n",
       "    </tr>\n",
       "  </tbody>\n",
       "</table>\n",
       "</div>"
      ],
      "text/plain": [
       "                                              directions  \\\n",
       "15766  in a kadai heat 2 tbsp oil. add the crushed gi...   \n",
       "\n",
       "                             id  \\\n",
       "15766  5c753e1e395d0f369413115c   \n",
       "\n",
       "                                             ingredients   recipe_name  \\\n",
       "15766  Black Pepper Capsicum Chilli Dry Chillies Gree...  Kadai Paneer   \n",
       "\n",
       "      scraped_tags                                   text_combination  \n",
       "15766          NaN  in a kadai heat 2 tbsp oil. add the crushed gi...  "
      ]
     },
     "execution_count": 51,
     "metadata": {},
     "output_type": "execute_result"
    }
   ],
   "source": [
    "df[df['recipe_name'].str.lower() == 'kadai paneer']"
   ]
  },
  {
   "cell_type": "code",
   "execution_count": 52,
   "metadata": {},
   "outputs": [
    {
     "data": {
      "text/html": [
       "<div>\n",
       "<style scoped>\n",
       "    .dataframe tbody tr th:only-of-type {\n",
       "        vertical-align: middle;\n",
       "    }\n",
       "\n",
       "    .dataframe tbody tr th {\n",
       "        vertical-align: top;\n",
       "    }\n",
       "\n",
       "    .dataframe thead th {\n",
       "        text-align: right;\n",
       "    }\n",
       "</style>\n",
       "<table border=\"1\" class=\"dataframe\">\n",
       "  <thead>\n",
       "    <tr style=\"text-align: right;\">\n",
       "      <th></th>\n",
       "      <th>directions</th>\n",
       "      <th>id</th>\n",
       "      <th>ingredients</th>\n",
       "      <th>recipe_name</th>\n",
       "      <th>scraped_tags</th>\n",
       "      <th>text_combination</th>\n",
       "    </tr>\n",
       "  </thead>\n",
       "  <tbody>\n",
       "    <tr>\n",
       "      <th>12177</th>\n",
       "      <td>Combine all the ingredients, except the saffro...</td>\n",
       "      <td>5c6bb1aeb857af041884e895</td>\n",
       "      <td>fresh cream grated paneer (cottage cheese) mil...</td>\n",
       "      <td>Paneer Kalakand</td>\n",
       "      <td>NaN</td>\n",
       "      <td>Combine all the ingredients, except the saffro...</td>\n",
       "    </tr>\n",
       "  </tbody>\n",
       "</table>\n",
       "</div>"
      ],
      "text/plain": [
       "                                              directions  \\\n",
       "12177  Combine all the ingredients, except the saffro...   \n",
       "\n",
       "                             id  \\\n",
       "12177  5c6bb1aeb857af041884e895   \n",
       "\n",
       "                                             ingredients      recipe_name  \\\n",
       "12177  fresh cream grated paneer (cottage cheese) mil...  Paneer Kalakand   \n",
       "\n",
       "      scraped_tags                                   text_combination  \n",
       "12177          NaN  Combine all the ingredients, except the saffro...  "
      ]
     },
     "execution_count": 52,
     "metadata": {},
     "output_type": "execute_result"
    }
   ],
   "source": [
    "df[df['recipe_name'].str.lower() == 'paneer kalakand']"
   ]
  },
  {
   "cell_type": "code",
   "execution_count": 53,
   "metadata": {},
   "outputs": [
    {
     "data": {
      "text/html": [
       "<div>\n",
       "<style scoped>\n",
       "    .dataframe tbody tr th:only-of-type {\n",
       "        vertical-align: middle;\n",
       "    }\n",
       "\n",
       "    .dataframe tbody tr th {\n",
       "        vertical-align: top;\n",
       "    }\n",
       "\n",
       "    .dataframe thead th {\n",
       "        text-align: right;\n",
       "    }\n",
       "</style>\n",
       "<table border=\"1\" class=\"dataframe\">\n",
       "  <thead>\n",
       "    <tr style=\"text-align: right;\">\n",
       "      <th></th>\n",
       "      <th>directions</th>\n",
       "      <th>id</th>\n",
       "      <th>ingredients</th>\n",
       "      <th>recipe_name</th>\n",
       "      <th>scraped_tags</th>\n",
       "      <th>text_combination</th>\n",
       "    </tr>\n",
       "  </thead>\n",
       "  <tbody>\n",
       "    <tr>\n",
       "      <th>15634</th>\n",
       "      <td>Soak raisins in warm water for some time befor...</td>\n",
       "      <td>5c753e1e395d0f369413110f</td>\n",
       "      <td>Bread Crumbs Chilli Dry Chillies Green Cooking...</td>\n",
       "      <td>Paneer Alu Roll</td>\n",
       "      <td>NaN</td>\n",
       "      <td>Soak raisins in warm water for some time befor...</td>\n",
       "    </tr>\n",
       "  </tbody>\n",
       "</table>\n",
       "</div>"
      ],
      "text/plain": [
       "                                              directions  \\\n",
       "15634  Soak raisins in warm water for some time befor...   \n",
       "\n",
       "                             id  \\\n",
       "15634  5c753e1e395d0f369413110f   \n",
       "\n",
       "                                             ingredients      recipe_name  \\\n",
       "15634  Bread Crumbs Chilli Dry Chillies Green Cooking...  Paneer Alu Roll   \n",
       "\n",
       "      scraped_tags                                   text_combination  \n",
       "15634          NaN  Soak raisins in warm water for some time befor...  "
      ]
     },
     "execution_count": 53,
     "metadata": {},
     "output_type": "execute_result"
    }
   ],
   "source": [
    "df[df['recipe_name'].str.lower() == 'paneer alu roll']"
   ]
  },
  {
   "cell_type": "code",
   "execution_count": 54,
   "metadata": {},
   "outputs": [
    {
     "data": {
      "text/plain": [
       "'heat oil in a large skillet over medium heat fry paneer in  batches until golden about  minutes transfer fried paneer to a paper towellined plate to drain retaining vegetable oil in skillet melt butter in the same skillet over medium heat cook and stir onion until golden brown about  minutes add ginger paste and garlic paste continue to cook until fragrant about  minute more stir cashews ground red chiles cumin coriander and garam masala into onion mixture cook and stir for  minute stir tomato sauce halfandhalf milk sugar and salt into spice mixture simmer until thickened about  minutes reduce heat to low add fried paneer and simmer until heated through about  minutes morevegetable oil pound paneer cut into inch cubes butter onions finely chopped ginger paste garlic paste ground cashews ground red chiles ground cumin ground coriander garam masala  ounce can tomato sauce halfandhalf milk white sugar salttrustedbrandsrecipesandtips'"
      ]
     },
     "execution_count": 54,
     "metadata": {},
     "output_type": "execute_result"
    }
   ],
   "source": [
    "# Paneer Butter Masala\n",
    "text1 = docs[11101]\n",
    "text1"
   ]
  },
  {
   "cell_type": "code",
   "execution_count": 55,
   "metadata": {},
   "outputs": [
    {
     "data": {
      "text/plain": [
       "'up bay leaves butter cashewnut chillies green coriander leaves fenugreek leaves garam masala ginger ginger garlic paste  onion big paneer red chilli salt sugarcane tomato ripe'"
      ]
     },
     "execution_count": 55,
     "metadata": {},
     "output_type": "execute_result"
    }
   ],
   "source": [
    "# Paneer Butter Masala\n",
    "text2 = docs[17300]\n",
    "text2"
   ]
  },
  {
   "cell_type": "code",
   "execution_count": 56,
   "metadata": {},
   "outputs": [
    {
     "data": {
      "text/plain": [
       "'in a kadai heat  tbsp oil add the crushed ginger and garlic saute these till the raw smell disappears now add the chopped tomatoes saute the tomatoes till they become soft pound the coriander seeds and red chilies to a roughly fine powder after  minutes add the spice powder to the tomatoes  saute the tomatoes till the whole mixture become like a paste and starts to leave oil now add the capsicum julienne and chopped green chilies and saute the capsicum for some  minutes add salt and garam masala powder mix these with the rest of the masala its time to add the paneer cook the paneer for  to  minutes in the masala lastly add kasuri methi ginger julienne and coriander leaves mix and saute for  minutes serve the kadai paneer hot with rotis or naans httpwwwvegrecipesofindiacomkadaipaneerrecipekadaipaneerblack pepper capsicum chilli dry chillies green cooking oil coriander leaves coriander seeds fenugreek seeds garam masala garlic dry ginger paneer salt tomato ripe'"
      ]
     },
     "execution_count": 56,
     "metadata": {},
     "output_type": "execute_result"
    }
   ],
   "source": [
    "# Kadai Paneer\n",
    "text3 = docs[15766]\n",
    "text3"
   ]
  },
  {
   "cell_type": "code",
   "execution_count": 57,
   "metadata": {},
   "outputs": [
    {
     "data": {
      "text/plain": [
       "'combine all the ingredients except the saffron in a heavy bottomed pan and cook on a medium flame for about  minutes while stirring regularly in between and till the mixture becomes thick add the saffron mixture mix well and remove from flame pour in a greased dish or bowl cool for  hours and cut into shapes serve immediately or chilledfresh cream grated paneer cottage cheese milk powder saffron kesar strands powdered sugar'"
      ]
     },
     "execution_count": 57,
     "metadata": {},
     "output_type": "execute_result"
    }
   ],
   "source": [
    "# Paneer Kalakand\n",
    "text4 = docs[12177]\n",
    "text4"
   ]
  },
  {
   "cell_type": "code",
   "execution_count": 58,
   "metadata": {},
   "outputs": [
    {
     "data": {
      "text/plain": [
       "'soak raisins in warm water for some time before use heat one tablespoon oil in a non stick frying pan and saut onion till translucent mix together paneer potatoes crushed red chillies fried onion green chillies coriander leaves garam masala powder salt and raisins shape into cylindrical croquettes add a little salt to the refined flour and roll the croquettes in it dip in the milk and roll in the breadcrumbs keep the aloo paneer croquettes in the refrigerator for an hour or more heat sufficient oil in a kadai and deep fry the rolls till golden brown and drain on an absorbent paper serve hot with coriander and mint chutney httpwwwsanjeevkapoorcomrecipealoopaneerrollsanytimetemptationshtmlbread crumbs chilli dry chillies green cooking oil coriander leaves garam masala milk cow onion small paneer potato raisins salt wheat flour refined'"
      ]
     },
     "execution_count": 58,
     "metadata": {},
     "output_type": "execute_result"
    }
   ],
   "source": [
    "# Paneer Alu Roll\n",
    "text5 = docs[15634]\n",
    "text5"
   ]
  },
  {
   "cell_type": "code",
   "execution_count": 59,
   "metadata": {},
   "outputs": [],
   "source": [
    "# Loading Spacy\n",
    "nlp = spacy.load('en_core_web_md')"
   ]
  },
  {
   "cell_type": "code",
   "execution_count": 60,
   "metadata": {},
   "outputs": [],
   "source": [
    "doc1 = nlp(text1)\n",
    "doc2 = nlp(text2)\n",
    "doc3 = nlp(text3)\n",
    "doc4 = nlp(text4)\n",
    "doc5 = nlp(text5)"
   ]
  },
  {
   "cell_type": "code",
   "execution_count": 61,
   "metadata": {},
   "outputs": [
    {
     "data": {
      "text/plain": [
       "0.9791293912151092"
      ]
     },
     "execution_count": 61,
     "metadata": {},
     "output_type": "execute_result"
    }
   ],
   "source": [
    "doc1.similarity(doc5)"
   ]
  },
  {
   "cell_type": "markdown",
   "metadata": {},
   "source": [
    "---\n",
    "#### Feature Extraction:"
   ]
  },
  {
   "cell_type": "markdown",
   "metadata": {},
   "source": [
    "##### Tf-Idf:"
   ]
  },
  {
   "cell_type": "code",
   "execution_count": 62,
   "metadata": {},
   "outputs": [
    {
     "data": {
      "text/html": [
       "<div>\n",
       "<style scoped>\n",
       "    .dataframe tbody tr th:only-of-type {\n",
       "        vertical-align: middle;\n",
       "    }\n",
       "\n",
       "    .dataframe tbody tr th {\n",
       "        vertical-align: top;\n",
       "    }\n",
       "\n",
       "    .dataframe thead th {\n",
       "        text-align: right;\n",
       "    }\n",
       "</style>\n",
       "<table border=\"1\" class=\"dataframe\">\n",
       "  <thead>\n",
       "    <tr style=\"text-align: right;\">\n",
       "      <th></th>\n",
       "      <th>text_combination</th>\n",
       "    </tr>\n",
       "  </thead>\n",
       "  <tbody>\n",
       "    <tr>\n",
       "      <th>0</th>\n",
       "      <td>preheat oven to  degrees  degrees c lightly gr...</td>\n",
       "    </tr>\n",
       "    <tr>\n",
       "      <th>1</th>\n",
       "      <td>preheat oven to  degrees f  degrees c grease a...</td>\n",
       "    </tr>\n",
       "    <tr>\n",
       "      <th>2</th>\n",
       "      <td>preheat oven to  degrees f  degrees c grease a...</td>\n",
       "    </tr>\n",
       "    <tr>\n",
       "      <th>3</th>\n",
       "      <td>remove skin and bones from fish in a medium bo...</td>\n",
       "    </tr>\n",
       "    <tr>\n",
       "      <th>4</th>\n",
       "      <td>preheat oven to  degrees f  degrees c lightly ...</td>\n",
       "    </tr>\n",
       "  </tbody>\n",
       "</table>\n",
       "</div>"
      ],
      "text/plain": [
       "                                    text_combination\n",
       "0  preheat oven to  degrees  degrees c lightly gr...\n",
       "1  preheat oven to  degrees f  degrees c grease a...\n",
       "2  preheat oven to  degrees f  degrees c grease a...\n",
       "3  remove skin and bones from fish in a medium bo...\n",
       "4  preheat oven to  degrees f  degrees c lightly ..."
      ]
     },
     "execution_count": 62,
     "metadata": {},
     "output_type": "execute_result"
    }
   ],
   "source": [
    "df_clean = pd.DataFrame(docs)\n",
    "df_clean.head()"
   ]
  },
  {
   "cell_type": "code",
   "execution_count": 63,
   "metadata": {},
   "outputs": [
    {
     "data": {
      "text/html": [
       "<div>\n",
       "<style scoped>\n",
       "    .dataframe tbody tr th:only-of-type {\n",
       "        vertical-align: middle;\n",
       "    }\n",
       "\n",
       "    .dataframe tbody tr th {\n",
       "        vertical-align: top;\n",
       "    }\n",
       "\n",
       "    .dataframe thead th {\n",
       "        text-align: right;\n",
       "    }\n",
       "</style>\n",
       "<table border=\"1\" class=\"dataframe\">\n",
       "  <thead>\n",
       "    <tr style=\"text-align: right;\">\n",
       "      <th></th>\n",
       "      <th>text_combination</th>\n",
       "      <th>recipe_name</th>\n",
       "    </tr>\n",
       "  </thead>\n",
       "  <tbody>\n",
       "    <tr>\n",
       "      <th>0</th>\n",
       "      <td>preheat oven to  degrees  degrees c lightly gr...</td>\n",
       "      <td>Chocolate Mayo Cake</td>\n",
       "    </tr>\n",
       "    <tr>\n",
       "      <th>1</th>\n",
       "      <td>preheat oven to  degrees f  degrees c grease a...</td>\n",
       "      <td>Sugar Free Cake</td>\n",
       "    </tr>\n",
       "    <tr>\n",
       "      <th>2</th>\n",
       "      <td>preheat oven to  degrees f  degrees c grease a...</td>\n",
       "      <td>Mayonnaise Cake</td>\n",
       "    </tr>\n",
       "    <tr>\n",
       "      <th>3</th>\n",
       "      <td>remove skin and bones from fish in a medium bo...</td>\n",
       "      <td>Mackerel Dip</td>\n",
       "    </tr>\n",
       "    <tr>\n",
       "      <th>4</th>\n",
       "      <td>preheat oven to  degrees f  degrees c lightly ...</td>\n",
       "      <td>Eggless Milkless Butterless Cake</td>\n",
       "    </tr>\n",
       "  </tbody>\n",
       "</table>\n",
       "</div>"
      ],
      "text/plain": [
       "                                    text_combination  \\\n",
       "0  preheat oven to  degrees  degrees c lightly gr...   \n",
       "1  preheat oven to  degrees f  degrees c grease a...   \n",
       "2  preheat oven to  degrees f  degrees c grease a...   \n",
       "3  remove skin and bones from fish in a medium bo...   \n",
       "4  preheat oven to  degrees f  degrees c lightly ...   \n",
       "\n",
       "                        recipe_name  \n",
       "0               Chocolate Mayo Cake  \n",
       "1                   Sugar Free Cake  \n",
       "2                  Mayonnaise Cake   \n",
       "3                      Mackerel Dip  \n",
       "4  Eggless Milkless Butterless Cake  "
      ]
     },
     "execution_count": 63,
     "metadata": {},
     "output_type": "execute_result"
    }
   ],
   "source": [
    "df_clean['recipe_name'] = df['recipe_name']\n",
    "df_clean.head()"
   ]
  },
  {
   "cell_type": "code",
   "execution_count": 64,
   "metadata": {},
   "outputs": [],
   "source": [
    "from sklearn.feature_extraction.text import TfidfTransformer, TfidfVectorizer"
   ]
  },
  {
   "cell_type": "code",
   "execution_count": 65,
   "metadata": {},
   "outputs": [],
   "source": [
    "tf = TfidfVectorizer()\n",
    "tfidf_matrix =  tf.fit_transform(docs)"
   ]
  },
  {
   "cell_type": "markdown",
   "metadata": {},
   "source": [
    "---\n",
    "#### Pairwise Recipe Similarity from tf-idf:"
   ]
  },
  {
   "cell_type": "code",
   "execution_count": 66,
   "metadata": {},
   "outputs": [],
   "source": [
    "from sklearn.metrics.pairwise import linear_kernel, cosine_similarity, euclidean_distances\n",
    "\n",
    "def find_similar(tfidf_matrix, index, top_n = 5): #Using Linear Kernel\n",
    "    cosine_similarities = linear_kernel(tfidf_matrix[index:index+1], tfidf_matrix).flatten()\n",
    "    indexes = [i for i in cosine_similarities.argsort()[::-1] if i != index]\n",
    "    similar_recipes = pd.DataFrame([(cosine_similarities[index], df_clean['recipe_name'].iloc[index]) for index in indexes][0:top_n], columns=['cosine_similarity', 'recipe_name'], index=indexes[:top_n])\n",
    "    return similar_recipes"
   ]
  },
  {
   "cell_type": "code",
   "execution_count": 67,
   "metadata": {},
   "outputs": [],
   "source": [
    "def find_similar_cosine_similarity(tfidf_matrix, index, top_n = 5): #Using Cosine Similarity\n",
    "    cosine_similarities = cosine_similarity(tfidf_matrix[index:index+1], tfidf_matrix).flatten()\n",
    "    indexes = [i for i in cosine_similarities.argsort()[::-1] if i != index]\n",
    "    similar_recipes = pd.DataFrame([(cosine_similarities[index], df_clean['recipe_name'].iloc[index]) for index in indexes][0:top_n], columns=['cosine_similarity', 'recipe_name'], index=indexes[:top_n])\n",
    "    return similar_recipes"
   ]
  },
  {
   "cell_type": "code",
   "execution_count": 68,
   "metadata": {},
   "outputs": [],
   "source": [
    "def find_similar_euclidean_distance(tfidf_matrix, index, top_n = 5):\n",
    "    euclidean_distance = euclidean_distances(tfidf_matrix[index:index+1], tfidf_matrix).flatten()\n",
    "    indexes = [i for i in euclidean_distance.argsort() if i != index]\n",
    "    similar_recipes = pd.DataFrame([(euclidean_distance[index], df_clean['recipe_name'].iloc[index]) for index in indexes][0:top_n], columns=['cosine_similarity', 'recipe_name'], index=indexes[:top_n])\n",
    "    return similar_recipes"
   ]
  },
  {
   "cell_type": "code",
   "execution_count": 69,
   "metadata": {},
   "outputs": [
    {
     "data": {
      "text/html": [
       "<div>\n",
       "<style scoped>\n",
       "    .dataframe tbody tr th:only-of-type {\n",
       "        vertical-align: middle;\n",
       "    }\n",
       "\n",
       "    .dataframe tbody tr th {\n",
       "        vertical-align: top;\n",
       "    }\n",
       "\n",
       "    .dataframe thead th {\n",
       "        text-align: right;\n",
       "    }\n",
       "</style>\n",
       "<table border=\"1\" class=\"dataframe\">\n",
       "  <thead>\n",
       "    <tr style=\"text-align: right;\">\n",
       "      <th></th>\n",
       "      <th>cosine_similarity</th>\n",
       "      <th>recipe_name</th>\n",
       "    </tr>\n",
       "  </thead>\n",
       "  <tbody>\n",
       "    <tr>\n",
       "      <th>14539</th>\n",
       "      <td>0.576009</td>\n",
       "      <td>Paneer Makhani</td>\n",
       "    </tr>\n",
       "    <tr>\n",
       "      <th>14764</th>\n",
       "      <td>0.511335</td>\n",
       "      <td>Navratan Korma</td>\n",
       "    </tr>\n",
       "    <tr>\n",
       "      <th>8877</th>\n",
       "      <td>0.472747</td>\n",
       "      <td>Basic Indian Curry With Paneer</td>\n",
       "    </tr>\n",
       "    <tr>\n",
       "      <th>10047</th>\n",
       "      <td>0.472736</td>\n",
       "      <td>Indian Butter Chicken (Chicken Makhani)</td>\n",
       "    </tr>\n",
       "    <tr>\n",
       "      <th>11284</th>\n",
       "      <td>0.464889</td>\n",
       "      <td>Egg And Potato Curry</td>\n",
       "    </tr>\n",
       "    <tr>\n",
       "      <th>10406</th>\n",
       "      <td>0.460759</td>\n",
       "      <td>Easy Palak Paneer</td>\n",
       "    </tr>\n",
       "    <tr>\n",
       "      <th>10095</th>\n",
       "      <td>0.456557</td>\n",
       "      <td>Paneer Tikka Sandwich</td>\n",
       "    </tr>\n",
       "    <tr>\n",
       "      <th>14412</th>\n",
       "      <td>0.447746</td>\n",
       "      <td>Palak Paneer (Spinach Curry)</td>\n",
       "    </tr>\n",
       "    <tr>\n",
       "      <th>9541</th>\n",
       "      <td>0.444892</td>\n",
       "      <td>Sweet Corn Subji With Paneer And Cashew Nuts</td>\n",
       "    </tr>\n",
       "    <tr>\n",
       "      <th>14411</th>\n",
       "      <td>0.430106</td>\n",
       "      <td>Palak Paneer (Indian Spinach And Paneer)</td>\n",
       "    </tr>\n",
       "  </tbody>\n",
       "</table>\n",
       "</div>"
      ],
      "text/plain": [
       "       cosine_similarity                                   recipe_name\n",
       "14539           0.576009                                Paneer Makhani\n",
       "14764           0.511335                                Navratan Korma\n",
       "8877            0.472747                Basic Indian Curry With Paneer\n",
       "10047           0.472736       Indian Butter Chicken (Chicken Makhani)\n",
       "11284           0.464889                          Egg And Potato Curry\n",
       "10406           0.460759                             Easy Palak Paneer\n",
       "10095           0.456557                         Paneer Tikka Sandwich\n",
       "14412           0.447746                  Palak Paneer (Spinach Curry)\n",
       "9541            0.444892  Sweet Corn Subji With Paneer And Cashew Nuts\n",
       "14411           0.430106      Palak Paneer (Indian Spinach And Paneer)"
      ]
     },
     "execution_count": 69,
     "metadata": {},
     "output_type": "execute_result"
    }
   ],
   "source": [
    "# Finding top 10 similar items for index#11101(i.e Paneer Butter Masala) in the recipes dataset\n",
    "find_similar_cosine_similarity(tfidf_matrix, 11101, 10)"
   ]
  },
  {
   "cell_type": "code",
   "execution_count": 70,
   "metadata": {},
   "outputs": [
    {
     "name": "stdout",
     "output_type": "stream",
     "text": [
      "---> The top 5 similar items to Chocolate Mayo Cake are: \n",
      "\n",
      "['Mayonnaise Cake ', 'Dark Chocolate Cake', 'Nairobi Chocolate Cake', 'Gluten-Free Moist Chocolate Cake', 'Vegan Chocolate Cake'] \n",
      "\n",
      "---> The top 5 similar items to Sugar Free Cake are: \n",
      "\n",
      "['Eggless Milkless Butterless Cake', 'Depression Cake', 'Sugar Free Spice Cookie', 'Pumpkin Cake', 'Boiled Cake'] \n",
      "\n",
      "---> The top 5 similar items to Mayonnaise Cake  are: \n",
      "\n",
      "['Chocolate Mayo Cake', 'Dark Chocolate Cake', 'Vegan Chocolate Cake', 'Nairobi Chocolate Cake', 'Two Bowl Cake'] \n",
      "\n",
      "---> The top 5 similar items to Mackerel Dip are: \n",
      "\n",
      "['Grilled Tilapia With Orange Salsa ', 'Baked Tilapia In Garlic And Olive Oil', 'Basa (Swai) Fish In Coconut Sauce', 'Garlic And Tomato Tilapia', 'Sliced Fish In Garlic Sauce'] \n",
      "\n",
      "---> The top 5 similar items to Eggless Milkless Butterless Cake are: \n",
      "\n",
      "['Depression Cake', 'Poor Mans Cakei', 'War Cake', 'Festive Prune Cake', 'Boiled Cake'] \n",
      "\n",
      "---> The top 5 similar items to My Amish Friend'S Caramel Corn are: \n",
      "\n",
      "['Microwave Caramel Popcorn', 'Chocolate Caramel Corn', 'Cajun-Spiced Popcorn', 'Pad Thai Popcorn', 'Popcorn Party Balls'] \n",
      "\n",
      "---> The top 5 similar items to Easy Tilapia are: \n",
      "\n",
      "['Acapulco Margarita Grouper', 'Fish', 'Tilapia Asparagus Bundles With White Wine Sauce', 'Oyster Fish', 'Fish In Lemon Sauce'] \n",
      "\n",
      "---> The top 5 similar items to Blueberry Crisp are: \n",
      "\n",
      "['Cape Breton Blueberry Grunt', 'Maritime Blueberry Buckle', 'Blueberry Crumb Bars', 'Coconut-Blueberry Baked Oatmeal', 'Finnish Blueberry Pie'] \n",
      "\n",
      "---> The top 5 similar items to Chicken Seitan are: \n",
      "\n",
      "['Best Homemade Seitan', 'Seitan In Peanut Sauce Or Vegetarian Gai Tua', 'Vegan Seitan Korma', 'Gluten Free Spaghetti & Meatballs', 'Dashi Stock (Konbudashi)'] \n",
      "\n",
      "---> The top 5 similar items to Tuna Tartare are: \n",
      "\n",
      "['Sushi-Inspired Tuna Salad', 'Wasabi Trout', 'Wasabi Prawns', 'Wasabi Encrusted Tuna Steaks', 'Wasabi Yellowfin Tuna'] \n",
      "\n"
     ]
    }
   ],
   "source": [
    "# Checking top 5 recipe similarities for 1st ten recipes in dataset:\n",
    "\n",
    "for i in range(10):\n",
    "    print(f\"---> The top 5 similar items to {df_clean['recipe_name'].iloc[i]} are: \\n\")\n",
    "    print(list(find_similar_cosine_similarity(tfidf_matrix, i)['recipe_name']), \"\\n\")"
   ]
  },
  {
   "cell_type": "markdown",
   "metadata": {},
   "source": [
    "---"
   ]
  }
 ],
 "metadata": {
  "kernelspec": {
   "display_name": "Python 3",
   "language": "python",
   "name": "python3"
  },
  "language_info": {
   "codemirror_mode": {
    "name": "ipython",
    "version": 3
   },
   "file_extension": ".py",
   "mimetype": "text/x-python",
   "name": "python",
   "nbconvert_exporter": "python",
   "pygments_lexer": "ipython3",
   "version": "3.7.2"
  }
 },
 "nbformat": 4,
 "nbformat_minor": 2
}
